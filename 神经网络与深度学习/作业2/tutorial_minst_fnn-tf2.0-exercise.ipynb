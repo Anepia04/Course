{
 "cells": [
  {
   "cell_type": "markdown",
   "metadata": {},
   "source": [
    "## 准备数据"
   ]
  },
  {
   "cell_type": "code",
   "execution_count": 47,
   "metadata": {
    "ExecuteTime": {
     "end_time": "2025-03-18T03:02:13.449723Z",
     "start_time": "2025-03-18T03:02:13.427178Z"
    }
   },
   "outputs": [],
   "source": [
    "import os\n",
    "import numpy as np\n",
    "import tensorflow as tf\n",
    "from tensorflow import keras\n",
    "from tensorflow.keras import layers, optimizers, datasets\n",
    "\n",
    "os.environ['TF_CPP_MIN_LOG_LEVEL'] = '2'  # or any {'0', '1', '2'}\n",
    "\n",
    "def mnist_dataset():\n",
    "    (x, y), (x_test, y_test) = datasets.mnist.load_data()\n",
    "    #normalize\n",
    "    x = x/255.0\n",
    "    x_test = x_test/255.0\n",
    "    \n",
    "    return (x, y), (x_test, y_test)"
   ]
  },
  {
   "cell_type": "code",
   "execution_count": 48,
   "metadata": {
    "ExecuteTime": {
     "end_time": "2025-03-18T03:02:13.465165Z",
     "start_time": "2025-03-18T03:02:13.452343Z"
    }
   },
   "outputs": [
    {
     "name": "stdout",
     "output_type": "stream",
     "text": [
      "[(1, 'a'), (2, 'b'), (3, 'c'), (4, 'd')]\n"
     ]
    }
   ],
   "source": [
    "print(list(zip([1, 2, 3, 4], ['a', 'b', 'c', 'd'])))"
   ]
  },
  {
   "cell_type": "code",
   "outputs": [],
   "source": [],
   "metadata": {
    "collapsed": false,
    "ExecuteTime": {
     "end_time": "2025-03-18T03:02:13.480309Z",
     "start_time": "2025-03-18T03:02:13.467347Z"
    }
   },
   "execution_count": 48
  },
  {
   "cell_type": "markdown",
   "metadata": {},
   "source": [
    "## 建立模型"
   ]
  },
  {
   "cell_type": "code",
   "execution_count": 49,
   "metadata": {
    "ExecuteTime": {
     "end_time": "2025-03-18T03:02:13.511155Z",
     "start_time": "2025-03-18T03:02:13.484470Z"
    }
   },
   "outputs": [],
   "source": [
    "class myModel:\n",
    "    def __init__(self):\n",
    "        ####################\n",
    "        '''声明模型对应的参数'''\n",
    "        ####################\n",
    "        self.W1 = tf.Variable(tf.random.normal([784, 256], stddev=0.1))\n",
    "        self.b1 = tf.Variable(tf.zeros([256]))\n",
    "        self.W2 = tf.Variable(tf.random.normal([256, 10], stddev=0.1))\n",
    "        self.b2 = tf.Variable(tf.zeros([10]))\n",
    "    def __call__(self, x):\n",
    "        ####################\n",
    "        '''实现模型函数体，返回未归一化的logits'''\n",
    "        ####################\n",
    "        x = tf.reshape(x, [-1, 784])          # 展平输入 [batch_size, 784]\n",
    "        h = tf.nn.relu(x @ self.W1 + self.b1) # 隐藏层计算 [batch_size, 256]\n",
    "        logits = h @ self.W2 + self.b2        # 输出层计算 [batch_size, 10]\n",
    "        return logits\n",
    "        \n",
    "model = myModel()\n",
    "\n",
    "optimizer = optimizers.Adam()"
   ]
  },
  {
   "cell_type": "markdown",
   "metadata": {},
   "source": [
    "## 计算 loss"
   ]
  },
  {
   "cell_type": "code",
   "execution_count": 50,
   "metadata": {
    "ExecuteTime": {
     "end_time": "2025-03-18T03:02:13.526597Z",
     "start_time": "2025-03-18T03:02:13.513401Z"
    }
   },
   "outputs": [],
   "source": [
    "@tf.function\n",
    "def compute_loss(logits, labels):\n",
    "    return tf.reduce_mean(\n",
    "        tf.nn.sparse_softmax_cross_entropy_with_logits(\n",
    "            logits=logits, labels=labels))\n",
    "\n",
    "@tf.function\n",
    "def compute_accuracy(logits, labels):\n",
    "    predictions = tf.argmax(logits, axis=1)\n",
    "    return tf.reduce_mean(tf.cast(tf.equal(predictions, labels), tf.float32))\n",
    "\n",
    "@tf.function\n",
    "def train_one_step(model, optimizer, x, y):\n",
    "    with tf.GradientTape() as tape:\n",
    "        logits = model(x)\n",
    "        loss = compute_loss(logits, y)\n",
    "\n",
    "    # compute gradient\n",
    "    trainable_vars = [model.W1, model.W2, model.b1, model.b2]\n",
    "    grads = tape.gradient(loss, trainable_vars)\n",
    "    for g, v in zip(grads, trainable_vars):\n",
    "        v.assign_sub(0.01*g)\n",
    "\n",
    "    accuracy = compute_accuracy(logits, y)\n",
    "\n",
    "    # loss and accuracy is scalar tensor\n",
    "    return loss, accuracy\n",
    "\n",
    "@tf.function\n",
    "def test(model, x, y):\n",
    "    logits = model(x)\n",
    "    loss = compute_loss(logits, y)\n",
    "    accuracy = compute_accuracy(logits, y)\n",
    "    return loss, accuracy"
   ]
  },
  {
   "cell_type": "markdown",
   "metadata": {},
   "source": [
    "## 实际训练"
   ]
  },
  {
   "cell_type": "code",
   "execution_count": 51,
   "metadata": {
    "ExecuteTime": {
     "end_time": "2025-03-18T03:02:28.718269Z",
     "start_time": "2025-03-18T03:02:13.528808Z"
    }
   },
   "outputs": [
    {
     "name": "stdout",
     "output_type": "stream",
     "text": [
      "epoch 0 : loss 2.7849474 ; accuracy 0.10425\n",
      "epoch 1 : loss 2.6707208 ; accuracy 0.11365\n",
      "epoch 2 : loss 2.586302 ; accuracy 0.12388334\n",
      "epoch 3 : loss 2.5206647 ; accuracy 0.13425\n",
      "epoch 4 : loss 2.4673584 ; accuracy 0.14303334\n",
      "epoch 5 : loss 2.4225183 ; accuracy 0.152\n",
      "epoch 6 : loss 2.3837411 ; accuracy 0.15948333\n",
      "epoch 7 : loss 2.3494594 ; accuracy 0.16798334\n",
      "epoch 8 : loss 2.3186133 ; accuracy 0.17596667\n",
      "epoch 9 : loss 2.2904675 ; accuracy 0.18273333\n",
      "epoch 10 : loss 2.2644846 ; accuracy 0.1904\n",
      "epoch 11 : loss 2.2402673 ; accuracy 0.19915\n",
      "epoch 12 : loss 2.2175083 ; accuracy 0.20715\n",
      "epoch 13 : loss 2.1959739 ; accuracy 0.21505\n",
      "epoch 14 : loss 2.1754775 ; accuracy 0.22343333\n",
      "epoch 15 : loss 2.15587 ; accuracy 0.2316\n",
      "epoch 16 : loss 2.1370304 ; accuracy 0.2395\n",
      "epoch 17 : loss 2.1188598 ; accuracy 0.24743333\n",
      "epoch 18 : loss 2.1012747 ; accuracy 0.25606668\n",
      "epoch 19 : loss 2.0842092 ; accuracy 0.26503333\n",
      "epoch 20 : loss 2.0676074 ; accuracy 0.27261665\n",
      "epoch 21 : loss 2.0514235 ; accuracy 0.2805\n",
      "epoch 22 : loss 2.0356176 ; accuracy 0.29005\n",
      "epoch 23 : loss 2.020156 ; accuracy 0.29915\n",
      "epoch 24 : loss 2.0050104 ; accuracy 0.30826667\n",
      "epoch 25 : loss 1.9901565 ; accuracy 0.31676668\n",
      "epoch 26 : loss 1.9755723 ; accuracy 0.32485\n",
      "epoch 27 : loss 1.9612409 ; accuracy 0.33368334\n",
      "epoch 28 : loss 1.9471471 ; accuracy 0.34295\n",
      "epoch 29 : loss 1.9332786 ; accuracy 0.35216665\n",
      "epoch 30 : loss 1.9196242 ; accuracy 0.36106667\n",
      "epoch 31 : loss 1.906175 ; accuracy 0.3699\n",
      "epoch 32 : loss 1.8929203 ; accuracy 0.37833333\n",
      "epoch 33 : loss 1.8798531 ; accuracy 0.38735\n",
      "epoch 34 : loss 1.8669673 ; accuracy 0.39601666\n",
      "epoch 35 : loss 1.8542564 ; accuracy 0.40403333\n",
      "epoch 36 : loss 1.8417147 ; accuracy 0.41223332\n",
      "epoch 37 : loss 1.8293374 ; accuracy 0.42006665\n",
      "epoch 38 : loss 1.8171195 ; accuracy 0.4273\n",
      "epoch 39 : loss 1.8050591 ; accuracy 0.43448332\n",
      "epoch 40 : loss 1.7931511 ; accuracy 0.44131666\n",
      "epoch 41 : loss 1.7813913 ; accuracy 0.44856668\n",
      "epoch 42 : loss 1.7697781 ; accuracy 0.45553333\n",
      "epoch 43 : loss 1.7583089 ; accuracy 0.46241668\n",
      "epoch 44 : loss 1.7469805 ; accuracy 0.46828333\n",
      "epoch 45 : loss 1.7357907 ; accuracy 0.47443333\n",
      "epoch 46 : loss 1.7247378 ; accuracy 0.47998333\n",
      "epoch 47 : loss 1.7138193 ; accuracy 0.4862\n",
      "epoch 48 : loss 1.7030323 ; accuracy 0.49253333\n",
      "epoch 49 : loss 1.6923758 ; accuracy 0.4979\n",
      "test loss 1.6709802 ; accuracy 0.5063\n"
     ]
    }
   ],
   "source": [
    "train_data, test_data = mnist_dataset()\n",
    "for epoch in range(50):\n",
    "    loss, accuracy = train_one_step(model, optimizer, \n",
    "                                    tf.constant(train_data[0], dtype=tf.float32), \n",
    "                                    tf.constant(train_data[1], dtype=tf.int64))\n",
    "    print('epoch', epoch, ': loss', loss.numpy(), '; accuracy', accuracy.numpy())\n",
    "loss, accuracy = test(model, \n",
    "                      tf.constant(test_data[0], dtype=tf.float32), \n",
    "                      tf.constant(test_data[1], dtype=tf.int64))\n",
    "\n",
    "print('test loss', loss.numpy(), '; accuracy', accuracy.numpy())"
   ]
  }
 ],
 "metadata": {
  "kernelspec": {
   "display_name": "Python 3",
   "language": "python",
   "name": "python3"
  },
  "language_info": {
   "codemirror_mode": {
    "name": "ipython",
    "version": 3
   },
   "file_extension": ".py",
   "mimetype": "text/x-python",
   "name": "python",
   "nbconvert_exporter": "python",
   "pygments_lexer": "ipython3",
   "version": "3.7.0"
  }
 },
 "nbformat": 4,
 "nbformat_minor": 2
}
