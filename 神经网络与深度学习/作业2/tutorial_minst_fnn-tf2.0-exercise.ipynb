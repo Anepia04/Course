{
 "cells": [
  {
   "cell_type": "markdown",
   "metadata": {},
   "source": [
    "## 准备数据"
   ]
  },
  {
   "cell_type": "code",
   "execution_count": 11,
   "metadata": {
    "ExecuteTime": {
     "end_time": "2025-03-18T09:53:07.253782Z",
     "start_time": "2025-03-18T09:53:07.246778Z"
    }
   },
   "outputs": [],
   "source": [
    "import os\n",
    "import numpy as np\n",
    "import tensorflow as tf\n",
    "from tensorflow import keras\n",
    "from tensorflow.keras import layers, optimizers, datasets\n",
    "\n",
    "os.environ['TF_CPP_MIN_LOG_LEVEL'] = '2'  # or any {'0', '1', '2'}\n",
    "\n",
    "def mnist_dataset():\n",
    "    (x, y), (x_test, y_test) = datasets.mnist.load_data()\n",
    "    #normalize\n",
    "    x = x/255.0\n",
    "    x_test = x_test/255.0\n",
    "    \n",
    "    return (x, y), (x_test, y_test)"
   ]
  },
  {
   "cell_type": "code",
   "execution_count": 12,
   "metadata": {
    "ExecuteTime": {
     "end_time": "2025-03-18T09:53:07.269785Z",
     "start_time": "2025-03-18T09:53:07.255777Z"
    }
   },
   "outputs": [
    {
     "name": "stdout",
     "output_type": "stream",
     "text": [
      "[(1, 'a'), (2, 'b'), (3, 'c'), (4, 'd')]\n"
     ]
    }
   ],
   "source": [
    "print(list(zip([1, 2, 3, 4], ['a', 'b', 'c', 'd'])))"
   ]
  },
  {
   "cell_type": "code",
   "outputs": [],
   "source": [],
   "metadata": {
    "collapsed": false,
    "ExecuteTime": {
     "end_time": "2025-03-18T09:53:07.284800Z",
     "start_time": "2025-03-18T09:53:07.270783Z"
    }
   },
   "execution_count": 12
  },
  {
   "cell_type": "markdown",
   "metadata": {},
   "source": [
    "## 建立模型"
   ]
  },
  {
   "cell_type": "code",
   "execution_count": 13,
   "metadata": {
    "ExecuteTime": {
     "end_time": "2025-03-18T09:53:07.300325Z",
     "start_time": "2025-03-18T09:53:07.286795Z"
    }
   },
   "outputs": [],
   "source": [
    "class myModel:\n",
    "    def __init__(self):\n",
    "        ####################\n",
    "        '''声明模型对应的参数'''\n",
    "        ####################\n",
    "        self.W1 = tf.Variable(tf.random.normal([784, 256], stddev=0.1))\n",
    "        self.b1 = tf.Variable(tf.zeros([256]))\n",
    "        self.W2 = tf.Variable(tf.random.normal([256, 10], stddev=0.1))\n",
    "        self.b2 = tf.Variable(tf.zeros([10]))\n",
    "    def __call__(self, x):\n",
    "        ####################\n",
    "        '''实现模型函数体，返回未归一化的logits'''\n",
    "        ####################\n",
    "        x = tf.reshape(x, [-1, 784])          # 展平输入 [batch_size, 784]\n",
    "        h = tf.nn.relu(x @ self.W1 + self.b1) # 隐藏层计算 [batch_size, 256]\n",
    "        logits = h @ self.W2 + self.b2        # 输出层计算 [batch_size, 10]\n",
    "        return logits\n",
    "        \n",
    "model = myModel()\n",
    "\n",
    "optimizer = optimizers.Adam()"
   ]
  },
  {
   "cell_type": "markdown",
   "metadata": {},
   "source": [
    "## 计算 loss"
   ]
  },
  {
   "cell_type": "code",
   "execution_count": 14,
   "metadata": {
    "ExecuteTime": {
     "end_time": "2025-03-18T09:53:07.331414Z",
     "start_time": "2025-03-18T09:53:07.301312Z"
    }
   },
   "outputs": [],
   "source": [
    "@tf.function\n",
    "def compute_loss(logits, labels):\n",
    "    return tf.reduce_mean(\n",
    "        tf.nn.sparse_softmax_cross_entropy_with_logits(\n",
    "            logits=logits, labels=labels))\n",
    "\n",
    "@tf.function\n",
    "def compute_accuracy(logits, labels):\n",
    "    predictions = tf.argmax(logits, axis=1)\n",
    "    return tf.reduce_mean(tf.cast(tf.equal(predictions, labels), tf.float32))\n",
    "\n",
    "@tf.function\n",
    "def train_one_step(model, optimizer, x, y):\n",
    "    with tf.GradientTape() as tape:\n",
    "        logits = model(x)\n",
    "        loss = compute_loss(logits, y)\n",
    "\n",
    "    # compute gradient\n",
    "    trainable_vars = [model.W1, model.W2, model.b1, model.b2]\n",
    "    grads = tape.gradient(loss, trainable_vars)\n",
    "    for g, v in zip(grads, trainable_vars):\n",
    "        v.assign_sub(0.01*g)\n",
    "\n",
    "    accuracy = compute_accuracy(logits, y)\n",
    "\n",
    "    # loss and accuracy is scalar tensor\n",
    "    return loss, accuracy\n",
    "\n",
    "@tf.function\n",
    "def test(model, x, y):\n",
    "    logits = model(x)\n",
    "    loss = compute_loss(logits, y)\n",
    "    accuracy = compute_accuracy(logits, y)\n",
    "    return loss, accuracy"
   ]
  },
  {
   "cell_type": "markdown",
   "metadata": {},
   "source": [
    "## 实际训练"
   ]
  },
  {
   "cell_type": "code",
   "execution_count": 16,
   "metadata": {
    "ExecuteTime": {
     "end_time": "2025-03-18T09:53:29.168792Z",
     "start_time": "2025-03-18T09:53:19.736645Z"
    }
   },
   "outputs": [
    {
     "name": "stdout",
     "output_type": "stream",
     "text": [
      "epoch 0 : loss 1.6842513 ; accuracy 0.4572\n",
      "epoch 1 : loss 1.6735117 ; accuracy 0.46348333\n",
      "epoch 2 : loss 1.6629058 ; accuracy 0.4701\n",
      "epoch 3 : loss 1.6524328 ; accuracy 0.47633332\n",
      "epoch 4 : loss 1.6420909 ; accuracy 0.48211667\n",
      "epoch 5 : loss 1.6318777 ; accuracy 0.48763335\n",
      "epoch 6 : loss 1.6217914 ; accuracy 0.49296665\n",
      "epoch 7 : loss 1.6118313 ; accuracy 0.49866667\n",
      "epoch 8 : loss 1.6019956 ; accuracy 0.50456667\n",
      "epoch 9 : loss 1.5922818 ; accuracy 0.5097333\n",
      "epoch 10 : loss 1.5826886 ; accuracy 0.5150333\n",
      "epoch 11 : loss 1.5732133 ; accuracy 0.52085\n",
      "epoch 12 : loss 1.5638554 ; accuracy 0.52598333\n",
      "epoch 13 : loss 1.554614 ; accuracy 0.53105\n",
      "epoch 14 : loss 1.5454873 ; accuracy 0.5364\n",
      "epoch 15 : loss 1.5364742 ; accuracy 0.5417167\n",
      "epoch 16 : loss 1.5275725 ; accuracy 0.5467333\n",
      "epoch 17 : loss 1.51878 ; accuracy 0.5517833\n",
      "epoch 18 : loss 1.5100949 ; accuracy 0.55625\n",
      "epoch 19 : loss 1.5015162 ; accuracy 0.56065\n",
      "epoch 20 : loss 1.4930421 ; accuracy 0.56493336\n",
      "epoch 21 : loss 1.4846718 ; accuracy 0.56955\n",
      "epoch 22 : loss 1.4764041 ; accuracy 0.57355\n",
      "epoch 23 : loss 1.4682374 ; accuracy 0.57825\n",
      "epoch 24 : loss 1.46017 ; accuracy 0.58241665\n",
      "epoch 25 : loss 1.4522002 ; accuracy 0.58625\n",
      "epoch 26 : loss 1.4443271 ; accuracy 0.5906\n",
      "epoch 27 : loss 1.4365487 ; accuracy 0.59433335\n",
      "epoch 28 : loss 1.4288641 ; accuracy 0.5980333\n",
      "epoch 29 : loss 1.4212724 ; accuracy 0.6018\n",
      "epoch 30 : loss 1.4137721 ; accuracy 0.6052\n",
      "epoch 31 : loss 1.4063619 ; accuracy 0.6084667\n",
      "epoch 32 : loss 1.3990403 ; accuracy 0.6114333\n",
      "epoch 33 : loss 1.3918061 ; accuracy 0.61475\n",
      "epoch 34 : loss 1.3846577 ; accuracy 0.61775\n",
      "epoch 35 : loss 1.3775944 ; accuracy 0.6209667\n",
      "epoch 36 : loss 1.3706151 ; accuracy 0.62406665\n",
      "epoch 37 : loss 1.3637176 ; accuracy 0.6267667\n",
      "epoch 38 : loss 1.3569013 ; accuracy 0.6293\n",
      "epoch 39 : loss 1.3501654 ; accuracy 0.63233334\n",
      "epoch 40 : loss 1.3435085 ; accuracy 0.63498336\n",
      "epoch 41 : loss 1.3369293 ; accuracy 0.6375333\n",
      "epoch 42 : loss 1.3304266 ; accuracy 0.6404\n",
      "epoch 43 : loss 1.3239995 ; accuracy 0.6429833\n",
      "epoch 44 : loss 1.3176464 ; accuracy 0.64526665\n",
      "epoch 45 : loss 1.3113663 ; accuracy 0.64775\n",
      "epoch 46 : loss 1.3051578 ; accuracy 0.6498\n",
      "epoch 47 : loss 1.2990204 ; accuracy 0.6526333\n",
      "epoch 48 : loss 1.2929534 ; accuracy 0.6547833\n",
      "epoch 49 : loss 1.2869552 ; accuracy 0.65678334\n",
      "test loss 1.2597922 ; accuracy 0.6627\n"
     ]
    }
   ],
   "source": [
    "train_data, test_data = mnist_dataset()\n",
    "for epoch in range(50):\n",
    "    loss, accuracy = train_one_step(model, optimizer, \n",
    "                                    tf.constant(train_data[0], dtype=tf.float32), \n",
    "                                    tf.constant(train_data[1], dtype=tf.int64))\n",
    "    print('epoch', epoch, ': loss', loss.numpy(), '; accuracy', accuracy.numpy())\n",
    "loss, accuracy = test(model, \n",
    "                      tf.constant(test_data[0], dtype=tf.float32), \n",
    "                      tf.constant(test_data[1], dtype=tf.int64))\n",
    "\n",
    "print('test loss', loss.numpy(), '; accuracy', accuracy.numpy())"
   ]
  },
  {
   "cell_type": "code",
   "outputs": [],
   "source": [],
   "metadata": {
    "collapsed": false,
    "ExecuteTime": {
     "end_time": "2025-03-18T09:53:16.739789Z",
     "start_time": "2025-03-18T09:53:16.724802Z"
    }
   },
   "execution_count": 15
  }
 ],
 "metadata": {
  "kernelspec": {
   "display_name": "Python 3",
   "language": "python",
   "name": "python3"
  },
  "language_info": {
   "codemirror_mode": {
    "name": "ipython",
    "version": 3
   },
   "file_extension": ".py",
   "mimetype": "text/x-python",
   "name": "python",
   "nbconvert_exporter": "python",
   "pygments_lexer": "ipython3",
   "version": "3.7.0"
  }
 },
 "nbformat": 4,
 "nbformat_minor": 2
}
