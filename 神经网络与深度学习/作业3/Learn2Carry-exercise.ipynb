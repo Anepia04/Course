{
 "cells": [
  {
   "cell_type": "markdown",
   "metadata": {},
   "source": [
    "# 加法进位实验\n"
   ]
  },
  {
   "cell_type": "markdown",
   "metadata": {},
   "source": [
    "<img src=\"https://github.com/JerrikEph/jerrikeph.github.io/raw/master/Learn2Carry.png\" width=650>"
   ]
  },
  {
   "cell_type": "code",
   "execution_count": 8,
   "metadata": {
    "scrolled": true,
    "ExecuteTime": {
     "end_time": "2025-03-26T13:37:56.175371Z",
     "start_time": "2025-03-26T13:37:56.161157Z"
    }
   },
   "outputs": [],
   "source": [
    "import numpy as np\n",
    "import tensorflow as tf\n",
    "import collections\n",
    "from tensorflow import keras\n",
    "from tensorflow.keras import layers\n",
    "from tensorflow.keras import layers, optimizers, datasets\n",
    "import os,sys,tqdm\n"
   ]
  },
  {
   "cell_type": "markdown",
   "metadata": {},
   "source": [
    "## 数据生成\n",
    "我们随机在 `start->end`之间采样除整数对`(num1, num2)`，计算结果`num1+num2`作为监督信号。\n",
    "\n",
    "* 首先将数字转换成数字位列表 `convertNum2Digits`\n",
    "* 将数字位列表反向\n",
    "* 将数字位列表填充到同样的长度 `pad2len`\n"
   ]
  },
  {
   "cell_type": "code",
   "execution_count": 9,
   "metadata": {
    "ExecuteTime": {
     "end_time": "2025-03-26T13:37:56.206449Z",
     "start_time": "2025-03-26T13:37:56.194153Z"
    }
   },
   "outputs": [],
   "source": [
    "def gen_data_batch(batch_size, start, end):\n",
    "    '''在(start, end)区间采样生成一个batch的整型的数据\n",
    "    Args :\n",
    "        batch_size: batch_size\n",
    "        start: 开始数值\n",
    "        end: 结束数值\n",
    "    '''\n",
    "    numbers_1 = np.random.randint(start, end, batch_size)\n",
    "    numbers_2 = np.random.randint(start, end, batch_size)\n",
    "    results = numbers_1 + numbers_2\n",
    "    return numbers_1, numbers_2, results\n",
    "\n",
    "def convertNum2Digits(Num):\n",
    "    '''将一个整数转换成一个数字位的列表,例如 133412 ==> [1, 3, 3, 4, 1, 2]\n",
    "    '''\n",
    "    strNum = str(Num)\n",
    "    chNums = list(strNum)\n",
    "    digitNums = [int(o) for o in strNum]\n",
    "    return digitNums\n",
    "\n",
    "def convertDigits2Num(Digits):\n",
    "    '''将数字位列表反向， 例如 [1, 3, 3, 4, 1, 2] ==> [2, 1, 4, 3, 3, 1]\n",
    "    '''\n",
    "    digitStrs = [str(o) for o in Digits]\n",
    "    numStr = ''.join(digitStrs)\n",
    "    Num = int(numStr)\n",
    "    return Num\n",
    "\n",
    "def pad2len(lst, length, pad=0):\n",
    "    '''将一个列表用`pad`填充到`length`的长度 例如 pad2len([1, 3, 2, 3], 6, pad=0) ==> [1, 3, 2, 3, 0, 0]\n",
    "    '''\n",
    "    lst+=[pad]*(length - len(lst))\n",
    "    return lst\n",
    "\n",
    "def results_converter(res_lst):\n",
    "    '''将预测好的数字位列表批量转换成为原始整数\n",
    "    Args:\n",
    "        res_lst: shape(b_sz, len(digits))\n",
    "    '''\n",
    "    res = [reversed(digits) for digits in res_lst]\n",
    "    return [convertDigits2Num(digits) for digits in res]\n",
    "\n",
    "def prepare_batch(Nums1, Nums2, results, maxlen):\n",
    "    '''准备一个batch的数据，将数值转换成反转的数位列表并且填充到固定长度\n",
    "    Args:\n",
    "        Nums1: shape(batch_size,)\n",
    "        Nums2: shape(batch_size,)\n",
    "        results: shape(batch_size,)\n",
    "        maxlen:  type(int)\n",
    "    Returns:\n",
    "        Nums1: shape(batch_size, maxlen)\n",
    "        Nums2: shape(batch_size, maxlen)\n",
    "        results: shape(batch_size, maxlen)\n",
    "    '''\n",
    "    Nums1 = [convertNum2Digits(o) for o in Nums1]\n",
    "    Nums2 = [convertNum2Digits(o) for o in Nums2]\n",
    "    results = [convertNum2Digits(o) for o in results]\n",
    "    \n",
    "    Nums1 = [list(reversed(o)) for o in Nums1]\n",
    "    Nums2 = [list(reversed(o)) for o in Nums2]\n",
    "    results = [list(reversed(o)) for o in results]\n",
    "    \n",
    "    Nums1 = [pad2len(o, maxlen) for o in Nums1]\n",
    "    Nums2 = [pad2len(o, maxlen) for o in Nums2]\n",
    "    results = [pad2len(o, maxlen) for o in results]\n",
    "    \n",
    "    return Nums1, Nums2, results"
   ]
  },
  {
   "cell_type": "markdown",
   "metadata": {},
   "source": [
    "# 建模过程， 按照图示完成建模"
   ]
  },
  {
   "cell_type": "code",
   "execution_count": 10,
   "metadata": {
    "ExecuteTime": {
     "end_time": "2025-03-26T13:37:56.222022Z",
     "start_time": "2025-03-26T13:37:56.208454Z"
    }
   },
   "outputs": [],
   "source": [
    "class myRNNModel(keras.Model):\n",
    "    def __init__(self):\n",
    "        super(myRNNModel, self).__init__()\n",
    "        self.embed_layer = tf.keras.layers.Embedding(10, 32, \n",
    "                                                    batch_input_shape=[None, None])\n",
    "        \n",
    "        self.rnncell = tf.keras.layers.SimpleRNNCell(64)\n",
    "        self.rnn_layer = tf.keras.layers.RNN(self.rnncell, return_sequences=True)\n",
    "        self.dense = tf.keras.layers.Dense(10)\n",
    "        \n",
    "    @tf.function\n",
    "    def call(self, num1, num2):\n",
    "        '''\n",
    "        此处完成上述图中模型\n",
    "        '''\n",
    "        embedded_num1 = self.embed_layer(num1)\n",
    "        embedded_num2 = self.embed_layer(num2)\n",
    "        rnn_input = tf.concat([embedded_num1, embedded_num2], axis=-1)\n",
    "        rnn_output = self.rnn_layer(rnn_input)\n",
    "        logits = self.dense(rnn_output)\n",
    "        \n",
    "        return logits"
   ]
  },
  {
   "cell_type": "code",
   "execution_count": 11,
   "metadata": {
    "ExecuteTime": {
     "end_time": "2025-03-26T13:37:56.238126Z",
     "start_time": "2025-03-26T13:37:56.224538Z"
    }
   },
   "outputs": [],
   "source": [
    "@tf.function\n",
    "def compute_loss(logits, labels):\n",
    "    losses = tf.nn.sparse_softmax_cross_entropy_with_logits(\n",
    "            logits=logits, labels=labels)\n",
    "    return tf.reduce_mean(losses)\n",
    "\n",
    "@tf.function\n",
    "def train_one_step(model, optimizer, x, y, label):\n",
    "    with tf.GradientTape() as tape:\n",
    "        logits = model(x, y)\n",
    "        loss = compute_loss(logits, label)\n",
    "\n",
    "    # compute gradient\n",
    "    grads = tape.gradient(loss, model.trainable_variables)\n",
    "    optimizer.apply_gradients(zip(grads, model.trainable_variables))\n",
    "    return loss\n",
    "\n",
    "def train(steps, model, optimizer):\n",
    "    loss = 0.0\n",
    "    accuracy = 0.0\n",
    "    for step in range(steps):\n",
    "        datas = gen_data_batch(batch_size=200, start=0, end=555555555)\n",
    "        Nums1, Nums2, results = prepare_batch(*datas, maxlen=11)\n",
    "        loss = train_one_step(model, optimizer, tf.constant(Nums1, dtype=tf.int32), \n",
    "                              tf.constant(Nums2, dtype=tf.int32),\n",
    "                              tf.constant(results, dtype=tf.int32))\n",
    "        if step%50 == 0:\n",
    "            print('step', step, ': loss', loss.numpy())\n",
    "\n",
    "    return loss\n",
    "\n",
    "def evaluate(model):\n",
    "    datas = gen_data_batch(batch_size=2000, start=555555555, end=999999999)\n",
    "    Nums1, Nums2, results = prepare_batch(*datas, maxlen=11)\n",
    "    logits = model(tf.constant(Nums1, dtype=tf.int32), tf.constant(Nums2, dtype=tf.int32))\n",
    "    logits = logits.numpy()\n",
    "    pred = np.argmax(logits, axis=-1)\n",
    "    res = results_converter(pred)\n",
    "    for o in list(zip(datas[2], res))[:20]:\n",
    "        print(o[0], o[1], o[0]==o[1])\n",
    "\n",
    "    print('accuracy is: %g' % np.mean([o[0]==o[1] for o in zip(datas[2], res)]))\n"
   ]
  },
  {
   "cell_type": "code",
   "execution_count": 12,
   "metadata": {
    "ExecuteTime": {
     "end_time": "2025-03-26T13:37:56.285479Z",
     "start_time": "2025-03-26T13:37:56.240114Z"
    }
   },
   "outputs": [],
   "source": [
    "optimizer = optimizers.Adam(0.001)\n",
    "model = myRNNModel()"
   ]
  },
  {
   "cell_type": "code",
   "execution_count": 13,
   "metadata": {
    "ExecuteTime": {
     "end_time": "2025-03-26T13:38:15.396146Z",
     "start_time": "2025-03-26T13:37:56.286471Z"
    }
   },
   "outputs": [
    {
     "name": "stdout",
     "output_type": "stream",
     "text": [
      "step 0 : loss 2.2986608\n",
      "step 50 : loss 1.933865\n",
      "step 100 : loss 1.900573\n",
      "step 150 : loss 1.892148\n",
      "step 200 : loss 1.8869673\n",
      "step 250 : loss 1.8825117\n",
      "step 300 : loss 1.8841735\n",
      "step 350 : loss 1.8820084\n",
      "step 400 : loss 1.8903528\n",
      "step 450 : loss 1.8767494\n",
      "step 500 : loss 1.879778\n",
      "step 550 : loss 1.877803\n",
      "step 600 : loss 1.8698229\n",
      "step 650 : loss 1.8776784\n",
      "step 700 : loss 1.8786706\n",
      "step 750 : loss 1.8730304\n",
      "step 800 : loss 1.8646129\n",
      "step 850 : loss 1.8657271\n",
      "step 900 : loss 1.8597918\n",
      "step 950 : loss 1.8575013\n",
      "step 1000 : loss 1.8537079\n",
      "step 1050 : loss 1.8214399\n",
      "step 1100 : loss 1.7398177\n",
      "step 1150 : loss 1.6074512\n",
      "step 1200 : loss 1.4276096\n",
      "step 1250 : loss 1.2235084\n",
      "step 1300 : loss 1.0366361\n",
      "step 1350 : loss 0.89853716\n",
      "step 1400 : loss 0.79195565\n",
      "step 1450 : loss 0.71419555\n",
      "step 1500 : loss 0.6400986\n",
      "step 1550 : loss 0.5586175\n",
      "step 1600 : loss 0.5055538\n",
      "step 1650 : loss 0.45054972\n",
      "step 1700 : loss 0.39315042\n",
      "step 1750 : loss 0.35719028\n",
      "step 1800 : loss 0.305188\n",
      "step 1850 : loss 0.26380497\n",
      "step 1900 : loss 0.22741866\n",
      "step 1950 : loss 0.20509687\n",
      "step 2000 : loss 0.17564419\n",
      "step 2050 : loss 0.15029073\n",
      "step 2100 : loss 0.12866552\n",
      "step 2150 : loss 0.11208128\n",
      "step 2200 : loss 0.09600908\n",
      "step 2250 : loss 0.084281854\n",
      "step 2300 : loss 0.07146399\n",
      "step 2350 : loss 0.06305524\n",
      "step 2400 : loss 0.056744147\n",
      "step 2450 : loss 0.049426083\n",
      "step 2500 : loss 0.044308208\n",
      "step 2550 : loss 0.04058428\n",
      "step 2600 : loss 0.036615986\n",
      "step 2650 : loss 0.033212807\n",
      "step 2700 : loss 0.030828983\n",
      "step 2750 : loss 0.027897835\n",
      "step 2800 : loss 0.025388332\n",
      "step 2850 : loss 0.023324227\n",
      "step 2900 : loss 0.021659246\n",
      "step 2950 : loss 0.020587565\n",
      "1885990412 1885990412 True\n",
      "1288503055 1288503055 True\n",
      "1350564635 1350564635 True\n",
      "1504320794 1504320794 True\n",
      "1274213985 1274213985 True\n",
      "1681542904 1681542904 True\n",
      "1597942869 1597942869 True\n",
      "1335412069 1335412069 True\n",
      "1661216429 1661216429 True\n",
      "1594117067 1594117067 True\n",
      "1708874413 1708874413 True\n",
      "1420075387 1420075387 True\n",
      "1713518925 1713518925 True\n",
      "1696350363 1696350363 True\n",
      "1466971845 1466971845 True\n",
      "1546528349 1546528349 True\n",
      "1699171452 1699171452 True\n",
      "1599351270 1599351270 True\n",
      "1712523645 1712523645 True\n",
      "1459247597 1459247597 True\n",
      "accuracy is: 1\n"
     ]
    }
   ],
   "source": [
    "train(3000, model, optimizer)\n",
    "evaluate(model)"
   ]
  },
  {
   "cell_type": "code",
   "execution_count": 13,
   "metadata": {
    "collapsed": true,
    "ExecuteTime": {
     "end_time": "2025-03-26T13:38:15.411737Z",
     "start_time": "2025-03-26T13:38:15.398149Z"
    }
   },
   "outputs": [],
   "source": []
  },
  {
   "cell_type": "code",
   "execution_count": 13,
   "metadata": {
    "ExecuteTime": {
     "end_time": "2025-03-26T13:38:15.427838Z",
     "start_time": "2025-03-26T13:38:15.412750Z"
    }
   },
   "outputs": [],
   "source": []
  },
  {
   "cell_type": "code",
   "execution_count": 13,
   "metadata": {
    "ExecuteTime": {
     "end_time": "2025-03-26T13:38:15.443553Z",
     "start_time": "2025-03-26T13:38:15.429836Z"
    }
   },
   "outputs": [],
   "source": []
  },
  {
   "cell_type": "code",
   "execution_count": 13,
   "metadata": {
    "ExecuteTime": {
     "end_time": "2025-03-26T13:38:15.459487Z",
     "start_time": "2025-03-26T13:38:15.445421Z"
    }
   },
   "outputs": [],
   "source": []
  },
  {
   "cell_type": "code",
   "execution_count": 13,
   "metadata": {
    "collapsed": true,
    "ExecuteTime": {
     "end_time": "2025-03-26T13:38:15.475708Z",
     "start_time": "2025-03-26T13:38:15.462495Z"
    }
   },
   "outputs": [],
   "source": []
  }
 ],
 "metadata": {
  "kernelspec": {
   "display_name": "Python 3",
   "language": "python",
   "name": "python3"
  },
  "language_info": {
   "codemirror_mode": {
    "name": "ipython",
    "version": 3
   },
   "file_extension": ".py",
   "mimetype": "text/x-python",
   "name": "python",
   "nbconvert_exporter": "python",
   "pygments_lexer": "ipython3",
   "version": "3.7.0"
  }
 },
 "nbformat": 4,
 "nbformat_minor": 2
}
